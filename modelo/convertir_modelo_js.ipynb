{
 "cells": [
  {
   "cell_type": "code",
   "execution_count": 7,
   "id": "16b437e0",
   "metadata": {},
   "outputs": [
    {
     "name": "stdout",
     "output_type": "stream",
     "text": [
      "Name: tensorflowjs\n",
      "Version: 3.21.0\n",
      "Summary: \n",
      "Home-page: https://js.tensorflow.org/\n",
      "Author: Google LLC\n",
      "Author-email: opensource@google.com\n",
      "License: Apache 2.0\n",
      "Location: c:\\users\\jhonp\\appdata\\roaming\\python\\python310\\site-packages\n",
      "Requires: flax, importlib_resources, jax, packaging, protobuf, six, tensorflow, tensorflow-hub\n",
      "Required-by: \n",
      "Note: you may need to restart the kernel to use updated packages.\n"
     ]
    },
    {
     "name": "stderr",
     "output_type": "stream",
     "text": [
      "WARNING: Ignoring invalid distribution -rotobuf (c:\\users\\jhonp\\anaconda3\\lib\\site-packages)\n"
     ]
    }
   ],
   "source": [
    "# Verificar si se cuenta con la libreria TensorflowJs.\n",
    "%pip show tensorflowjs"
   ]
  },
  {
   "cell_type": "code",
   "execution_count": null,
   "id": "299a815a",
   "metadata": {},
   "outputs": [],
   "source": [
    "# Instalar la libreria si hace falta.\n",
    "pip install tensorflowjs --user"
   ]
  },
  {
   "cell_type": "code",
   "execution_count": 5,
   "id": "4ffb16af",
   "metadata": {},
   "outputs": [],
   "source": [
    "import tensorflowjs as tfjs\n",
    "import tensorflow as tf\n",
    "import os \n",
    "\n",
    "nombre_modelo = './modelos_guardados/modelo_final.h5'\n",
    "\n",
    "# Cargar el modelo Keras desde un archivo .h5\n",
    "modelo_entrada = tf.keras.models.load_model(nombre_modelo)\n",
    "\n",
    "# Especificar la ruta de salida donde se guardará el modelo de TensorFlow.js\n",
    "modelo_salida = './modelos_guardados/modeloJs'  # se puede especificar un directorio\n",
    "\n",
    "# Crea la nueva carpeta de salida si no existe\n",
    "os.makedirs(modelo_salida, exist_ok=True)\n",
    "\n",
    "# Convertir el modelo .h5 a formato JSON de TensorFlow.js\n",
    "tfjs.converters.save_keras_model(modelo_entrada, modelo_salida)"
   ]
  }
 ],
 "metadata": {
  "kernelspec": {
   "display_name": "Python 3 (ipykernel)",
   "language": "python",
   "name": "python3"
  },
  "language_info": {
   "codemirror_mode": {
    "name": "ipython",
    "version": 3
   },
   "file_extension": ".py",
   "mimetype": "text/x-python",
   "name": "python",
   "nbconvert_exporter": "python",
   "pygments_lexer": "ipython3",
   "version": "3.10.9"
  }
 },
 "nbformat": 4,
 "nbformat_minor": 5
}
