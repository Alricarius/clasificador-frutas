{
 "cells": [
  {
   "cell_type": "code",
   "execution_count": null,
   "id": "1ae84643",
   "metadata": {},
   "outputs": [],
   "source": [
    "import numpy as np\n",
    "from sklearn.metrics import accuracy_score, precision_score, recall_score, f1_score, confusion_matrix\n",
    "\n",
    "class ModelEvaluator:\n",
    "    def __init__(self, model, test_data, nombreModelo):\n",
    "        self.model = model\n",
    "        self.test_data = test_data\n",
    "        self.nombreModelo = nombreModelo\n",
    "\n",
    "    def predict(self):\n",
    "        predictions = self.model.predict(self.test_data)\n",
    "        y_pred_binary = np.argmax(predictions, axis=1)\n",
    "        y_true = self.test_data.classes\n",
    "        return y_true, y_pred_binary\n",
    "\n",
    "    def evaluate(self):\n",
    "        y_true, y_pred_binary = self.predict()\n",
    "\n",
    "        accuracy = accuracy_score(y_true, y_pred_binary)\n",
    "        precision = precision_score(y_true, y_pred_binary, average='weighted', zero_division=1)\n",
    "        recall = recall_score(y_true, y_pred_binary, average='weighted')\n",
    "        f1 = f1_score(y_true, y_pred_binary, average='weighted')\n",
    "        conf_matrix = confusion_matrix(y_true, y_pred_binary)\n",
    "        print(f'-------- Resultados del modelo: {self.nombreModelo} --------')\n",
    "        print(f'Accuracy: {accuracy}')\n",
    "        print(f'Precision: {precision}')\n",
    "        print(f'Recall: {recall}')\n",
    "        print(f'F1 Score: {f1}')\n",
    "        print(f'Confusion Matrix:\\n{conf_matrix}')\n",
    "        print('------------------------------------------------------------')"
   ]
  }
 ],
 "metadata": {
  "kernelspec": {
   "display_name": "Python 3 (ipykernel)",
   "language": "python",
   "name": "python3"
  },
  "language_info": {
   "codemirror_mode": {
    "name": "ipython",
    "version": 3
   },
   "file_extension": ".py",
   "mimetype": "text/x-python",
   "name": "python",
   "nbconvert_exporter": "python",
   "pygments_lexer": "ipython3",
   "version": "3.8.0"
  }
 },
 "nbformat": 4,
 "nbformat_minor": 5
}
